{
 "cells": [
  {
   "cell_type": "code",
   "execution_count": 1,
   "metadata": {},
   "outputs": [],
   "source": [
    "import conllu\n",
    "\n",
    "def replace_head_deprel(input_file, output_file):\n",
    "    # Lire le contenu du fichier d'entrée\n",
    "    with open(input_file, 'r', encoding='utf-8') as f:\n",
    "        data = f.read()\n",
    "\n",
    "    # Parser le contenu en utilisant conllu\n",
    "    sentences = conllu.parse(data)\n",
    "    \n",
    "    # Liste pour stocker les phrases modifiées\n",
    "    filtered_sentences = []\n",
    "    \n",
    "    # Modifier les colonnes HEAD et DEPREL et filtrer les phrases\n",
    "    for sentence in sentences:\n",
    "        contains_bracket_token = False\n",
    "        for token in sentence:\n",
    "            if token['form'] == '[...]':\n",
    "                contains_bracket_token = True\n",
    "                break  # Arrêter la vérification de cette phrase\n",
    "\n",
    "            # Appliquer vos modifications aux tokens\n",
    "            token['feats'] = '_'\n",
    "        \n",
    "        # Ajouter la phrase à la liste filtrée si elle ne contient pas '[...]'\n",
    "        if not contains_bracket_token:\n",
    "            filtered_sentences.append(sentence)\n",
    "    \n",
    "    # Écrire les modifications dans le fichier de sortie\n",
    "    with open(output_file, 'w', encoding='utf-8') as f:\n",
    "        for sentence in filtered_sentences:\n",
    "            f.write(sentence.serialize())\n",
    "\n",
    "# Utilisation du script\n",
    "input_file = '/home/ziane212/Téléchargements/dump_MICLE_1563_Guernsey_30.08.24/last/1563_Guernesey_23.08.24.conllu'\n",
    "output_file = '/home/ziane212/Téléchargements/dump_MICLE_1563_Guernsey_30.08.24/last/expe_LLcD/1563_Guernesey_23.08.24.conllu'\n",
    "replace_head_deprel(input_file, output_file)\n"
   ]
  },
  {
   "cell_type": "code",
   "execution_count": null,
   "metadata": {},
   "outputs": [],
   "source": []
  }
 ],
 "metadata": {
  "kernelspec": {
   "display_name": "base",
   "language": "python",
   "name": "python3"
  },
  "language_info": {
   "codemirror_mode": {
    "name": "ipython",
    "version": 3
   },
   "file_extension": ".py",
   "mimetype": "text/x-python",
   "name": "python",
   "nbconvert_exporter": "python",
   "pygments_lexer": "ipython3",
   "version": "3.10.9"
  },
  "orig_nbformat": 4
 },
 "nbformat": 4,
 "nbformat_minor": 2
}
