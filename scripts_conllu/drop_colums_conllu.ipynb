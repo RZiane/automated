{
 "cells": [
  {
   "cell_type": "code",
   "execution_count": 2,
   "metadata": {},
   "outputs": [],
   "source": [
    "import conllu\n",
    "\n",
    "def replace_head_deprel(input_file, output_file):\n",
    "    # Lire le contenu du fichier d'entrée\n",
    "    with open(input_file, 'r', encoding='utf-8') as f:\n",
    "        data = f.read()\n",
    "\n",
    "    # Parser le contenu en utilisant conllu\n",
    "    sentences = conllu.parse(data)\n",
    "    \n",
    "    # Modifier les colonnes HEAD et DEPREL\n",
    "    for sentence in sentences:\n",
    "        for token in sentence:\n",
    "            #\n",
    "            # print(token['form'])\n",
    "            # token['lemma'] = '_'\n",
    "            # token['xpos'] = '_'\n",
    "            # token['feats'] = '_'\n",
    "            token['head'] = '_'\n",
    "            token['deprel'] = '_'\n",
    "            # token['upos'] = token['misc']['gold_pos']\n",
    "            # token['upos'] = '_'\n",
    "            # if token['deprel'] == 'root':\n",
    "            #     pass\n",
    "            # elif token['deprel'] == 'nsubj':\n",
    "            #     pass\n",
    "            # else:\n",
    "            #     token['head'] = '_'\n",
    "            #     token['deprel'] = '_'\n",
    "\n",
    "    # Écrire les modifications dans le fichier de sortie\n",
    "    with open(output_file, 'w', encoding='utf-8') as f:\n",
    "        for sentence in sentences:\n",
    "            f.write(sentence.serialize())\n",
    "\n",
    "# Utilisation du script\n",
    "input_file = '/home/ziane212/Téléchargements/1425_Style_et_Usage_Echiquier.conllu'\n",
    "output_file = '/home/ziane212/Téléchargements/1425_Style_et_Usage_Echiquier_.conllu'\n",
    "replace_head_deprel(input_file, output_file)"
   ]
  },
  {
   "cell_type": "code",
   "execution_count": null,
   "metadata": {},
   "outputs": [],
   "source": []
  }
 ],
 "metadata": {
  "kernelspec": {
   "display_name": "base",
   "language": "python",
   "name": "python3"
  },
  "language_info": {
   "codemirror_mode": {
    "name": "ipython",
    "version": 3
   },
   "file_extension": ".py",
   "mimetype": "text/x-python",
   "name": "python",
   "nbconvert_exporter": "python",
   "pygments_lexer": "ipython3",
   "version": "3.10.9"
  },
  "orig_nbformat": 4
 },
 "nbformat": 4,
 "nbformat_minor": 2
}
