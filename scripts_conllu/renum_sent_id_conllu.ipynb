{
 "cells": [
  {
   "cell_type": "code",
   "execution_count": 18,
   "metadata": {},
   "outputs": [
    {
     "name": "stdout",
     "output_type": "stream",
     "text": [
      "Processed: 1214-1342_Coutumes_et_Privileges_de_l_Entre-deux-Mer.conllu\n",
      "Processed: 1250_Coutumes_de_Bagnieres.conllu\n",
      "Processed: 1251_Coutumes_de_Bagnieres.conllu\n",
      "Processed: 1270_Charte_de_boucherie_dOrthez.conllu\n",
      "Processed: 1278_Charte_dHerrere.conllu\n"
     ]
    }
   ],
   "source": [
    "import os\n",
    "from conllu import parse\n",
    "\n",
    "def renumeroter_conllu(inputfile, outputfile):\n",
    "    with open(inputfile, 'r', encoding='utf-8') as infile:\n",
    "        data = infile.read()\n",
    "\n",
    "    sentences = parse(data)\n",
    "    \n",
    "    sent_counter = 1\n",
    "    current_para = None\n",
    "    current_section = None\n",
    "    current_chapter = None\n",
    "    current_book = None\n",
    "\n",
    "    with open(outputfile, 'w', encoding='utf-8') as outfile:\n",
    "        for i, sentence in enumerate(sentences):\n",
    "            sent_id = sentence.metadata.get(\"sent_id\", \"\")\n",
    "            parts = sent_id.split('_')\n",
    "            \n",
    "            if len(parts) >= 5:\n",
    "                book_id = parts[0]\n",
    "                chapter_id = parts[1]\n",
    "                section_id = parts[2]\n",
    "                para_id = parts[3]\n",
    "\n",
    "                if (current_book is None or current_book != book_id or\n",
    "                    current_chapter is None or current_chapter != chapter_id or\n",
    "                    current_section is None or current_section != section_id or\n",
    "                    current_para is None or current_para != para_id):\n",
    "                    \n",
    "                    current_book = book_id\n",
    "                    current_chapter = chapter_id\n",
    "                    current_section = section_id\n",
    "                    current_para = para_id\n",
    "                    sent_counter = 1\n",
    "                else:\n",
    "                    sent_counter += 1\n",
    "\n",
    "                new_sent_id = f\"{book_id}_{chapter_id}_{section_id}_{para_id}_{sent_counter}\"\n",
    "                sentence.metadata[\"sent_id\"] = new_sent_id\n",
    "            \n",
    "            outfile.write(sentence.serialize())\n",
    "\n",
    "def process_directory(input_dir, output_dir):\n",
    "    # Créer le sous-dossier s'il n'existe pas\n",
    "    os.makedirs(output_dir, exist_ok=True)\n",
    "\n",
    "    # Traiter tous les fichiers .conllu dans le dossier d'entrée\n",
    "    for filename in os.listdir(input_dir):\n",
    "        if filename.endswith('.conllu'):\n",
    "            inputfile = os.path.join(input_dir, filename)\n",
    "            outputfile = os.path.join(output_dir, filename)\n",
    "\n",
    "            renumeroter_conllu(inputfile, outputfile)\n",
    "            print(f\"Processed: {filename}\")\n",
    "\n",
    "# Exemple d'utilisation\n",
    "input_directory = '/home/ziane212/Téléchargements/dump_Gascon_23/last'  # Remplacez par le chemin de votre dossier d'entrée\n",
    "output_directory = '/home/ziane212/Téléchargements/dump_Gascon_23/last/renum_sent_id'  # Remplacez par le chemin de votre dossier de sortie\n",
    "\n",
    "process_directory(input_directory, output_directory)\n"
   ]
  },
  {
   "cell_type": "code",
   "execution_count": null,
   "metadata": {},
   "outputs": [],
   "source": []
  }
 ],
 "metadata": {
  "kernelspec": {
   "display_name": "base",
   "language": "python",
   "name": "python3"
  },
  "language_info": {
   "codemirror_mode": {
    "name": "ipython",
    "version": 3
   },
   "file_extension": ".py",
   "mimetype": "text/x-python",
   "name": "python",
   "nbconvert_exporter": "python",
   "pygments_lexer": "ipython3",
   "version": "3.10.9"
  },
  "orig_nbformat": 4
 },
 "nbformat": 4,
 "nbformat_minor": 2
}
