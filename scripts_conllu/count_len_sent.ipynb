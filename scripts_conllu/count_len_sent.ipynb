{
 "cells": [
  {
   "cell_type": "code",
   "execution_count": 4,
   "metadata": {},
   "outputs": [],
   "source": [
    "import os\n",
    "from conllu import parse"
   ]
  },
  {
   "cell_type": "code",
   "execution_count": 5,
   "metadata": {},
   "outputs": [],
   "source": [
    "def load_conllu_file(file_path):\n",
    "    with open(file_path, 'r', encoding='utf-8') as f:\n",
    "        data = f.read()\n",
    "    return parse(data)"
   ]
  },
  {
   "cell_type": "code",
   "execution_count": 6,
   "metadata": {},
   "outputs": [],
   "source": [
    "import os\n",
    "\n",
    "def process_folder(folder_path, out_path):\n",
    "    # Créer le répertoire de sortie si nécessaire\n",
    "    os.makedirs(out_path, exist_ok=True)\n",
    "    \n",
    "    for root, dirs, files in os.walk(folder_path):\n",
    "        for file in files:\n",
    "            if file.endswith(\".conllu\"):\n",
    "                file_path = os.path.join(root, file)\n",
    "                print(f\"Traitement de {file_path}\")\n",
    "                \n",
    "                # Charger les données du fichier .conllu\n",
    "                conllu_data = load_conllu_file(file_path)\n",
    "                \n",
    "                # Construire le chemin de sortie sans recréer la structure des dossiers\n",
    "                output_file = os.path.join(out_path, file)\n",
    "\n",
    "                # Ajouter la longueur des phrases dans les métadonnées\n",
    "                for sent in conllu_data:\n",
    "                    len_sent = len(sent)\n",
    "                    sent.metadata['len'] = len_sent\n",
    "\n",
    "                # Écrire les modifications dans le fichier de sortie\n",
    "                with open(output_file, 'w', encoding='utf-8') as f:\n",
    "                    for sentence in conllu_data:\n",
    "                        f.write(sentence.serialize())\n"
   ]
  },
  {
   "cell_type": "code",
   "execution_count": 7,
   "metadata": {},
   "outputs": [
    {
     "name": "stdout",
     "output_type": "stream",
     "text": [
      "Traitement de /home/ziane212/Téléchargements/dump_Gascon_23_16.10.24_2/raw/1278_Charte_dHerrere.conllu\n",
      "Traitement de /home/ziane212/Téléchargements/dump_Gascon_23_16.10.24_2/raw/1251_Coutumes_de_Bagnieres.conllu\n",
      "Traitement de /home/ziane212/Téléchargements/dump_Gascon_23_16.10.24_2/raw/1250_Coutumes_de_Bagnieres.conllu\n",
      "Traitement de /home/ziane212/Téléchargements/dump_Gascon_23_16.10.24_2/raw/out/1278_Charte_dHerrere.conllu\n",
      "Traitement de /home/ziane212/Téléchargements/dump_Gascon_23_16.10.24_2/raw/out/1251_Coutumes_de_Bagnieres.conllu\n",
      "Traitement de /home/ziane212/Téléchargements/dump_Gascon_23_16.10.24_2/raw/out/1250_Coutumes_de_Bagnieres.conllu\n"
     ]
    }
   ],
   "source": [
    "folder = \"/home/ziane212/Téléchargements/dump_Gascon_23_16.10.24_2/raw\"\n",
    "out_path = \"/home/ziane212/Téléchargements/dump_Gascon_23_16.10.24_2/raw/out\"\n",
    "\n",
    "process_folder(folder, out_path)"
   ]
  },
  {
   "cell_type": "code",
   "execution_count": null,
   "metadata": {},
   "outputs": [],
   "source": []
  }
 ],
 "metadata": {
  "kernelspec": {
   "display_name": "base",
   "language": "python",
   "name": "python3"
  },
  "language_info": {
   "codemirror_mode": {
    "name": "ipython",
    "version": 3
   },
   "file_extension": ".py",
   "mimetype": "text/x-python",
   "name": "python",
   "nbconvert_exporter": "python",
   "pygments_lexer": "ipython3",
   "version": "3.10.9"
  },
  "orig_nbformat": 4
 },
 "nbformat": 4,
 "nbformat_minor": 2
}
